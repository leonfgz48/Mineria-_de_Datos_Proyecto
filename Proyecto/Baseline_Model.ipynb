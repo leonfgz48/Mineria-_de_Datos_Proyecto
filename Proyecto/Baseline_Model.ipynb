{
 "cells": [
  {
   "cell_type": "markdown",
   "id": "4a7b6ca6-b75c-46ff-934e-65a6216ac925",
   "metadata": {},
   "source": [
    "# Modelo Baseline\n",
    "\n",
    "* Partiendo de las tablas tratadas."
   ]
  },
  {
   "cell_type": "code",
   "execution_count": 78,
   "id": "697729f0-f828-47c9-86e9-4088cff58709",
   "metadata": {},
   "outputs": [],
   "source": [
    "import pandas as pd\n",
    "import numpy as np\n",
    "import numpy as np\n",
    "import seaborn as sns\n",
    "from scipy import stats\n",
    "import matplotlib.pyplot as plt\n",
    "from math import pi\n",
    "from sklearn.metrics import mean_squared_error\n",
    "from sklearn.dummy import DummyClassifier\n",
    "from sklearn.metrics import accuracy_score\n",
    "from sklearn.feature_selection import VarianceThreshold\n",
    "from ydata_profiling import ProfileReport\n",
    "from sklearn.feature_selection import mutual_info_regression\n",
    "from sklearn.model_selection import train_test_split\n",
    "from sklearn.preprocessing import MinMaxScaler\n",
    "from sklearn.linear_model import Ridge\n",
    "from sklearn.metrics import mean_squared_error, r2_score\n",
    "\n",
    "\n",
    "%matplotlib inline\n",
    "# Map Stuff\n",
    "import geopandas as gpd\n",
    "import pandas as pd\n",
    "import matplotlib.pyplot as plt\n",
    "from geopy.geocoders import Nominatim\n",
    "from geopy.exc import GeocoderTimedOut"
   ]
  },
  {
   "cell_type": "code",
   "execution_count": 2,
   "id": "d5665e3e-49bc-4bc6-b03e-87bedd2f8b2b",
   "metadata": {},
   "outputs": [],
   "source": [
    "# pip install ydata-profiling\n",
    "# pip install -U googlemaps\n",
    "# pip install geopy"
   ]
  },
  {
   "cell_type": "code",
   "execution_count": 3,
   "id": "2567ab18-9e74-4288-adf5-0bd6e560a79d",
   "metadata": {},
   "outputs": [],
   "source": [
    "mypth = \"/Users/cesarrojasflores/Documents/DataMining/moroccotopo/Data/\""
   ]
  },
  {
   "cell_type": "code",
   "execution_count": 4,
   "id": "9e75e7a1-425f-4f34-b159-0ce14ade7876",
   "metadata": {},
   "outputs": [],
   "source": [
    "w_outliers = pd.read_csv(mypth+\"variables_con_atípicos.csv\")\n",
    "wo_outliers = pd.read_csv(mypth+\"variables_sin_atípicos.csv\")\n",
    "categoric = pd.read_csv(mypth+\"variables_categoricas_airbnb.csv\")\n",
    "categoric_excel = pd.read_excel(mypth+\"variables_categoricas_airbnb.xlsx\")"
   ]
  },
  {
   "cell_type": "code",
   "execution_count": 8,
   "id": "d7bcecf2-8782-4bdc-b80f-f95f1f5f25ee",
   "metadata": {},
   "outputs": [],
   "source": [
    "catvrs = categoric_excel.columns.to_list()\n",
    "numvrs = list(set(w_outliers.columns.to_list()) - set(catvrs))"
   ]
  },
  {
   "cell_type": "code",
   "execution_count": 9,
   "id": "2ac92c46-bce3-4d53-9934-4222313815ab",
   "metadata": {},
   "outputs": [
    {
     "data": {
      "text/plain": [
       "'\\n# Verificando que los headers sean iguales\\ncatvrs1 = categoric.columns.to_list()\\nif catvrs == catvrs1:\\n    print(\"Las listas son iguales\")\\nelse:\\n    print(\"Las listas son diferentes\")\\n\\nprint(len(catvrs))\\nprint(len(catvrs1))\\n'"
      ]
     },
     "execution_count": 9,
     "metadata": {},
     "output_type": "execute_result"
    }
   ],
   "source": [
    "\"\"\"\n",
    "# Verificando que los headers sean iguales\n",
    "catvrs1 = categoric.columns.to_list()\n",
    "if catvrs == catvrs1:\n",
    "    print(\"Las listas son iguales\")\n",
    "else:\n",
    "    print(\"Las listas son diferentes\")\n",
    "\n",
    "print(len(catvrs))\n",
    "print(len(catvrs1))\n",
    "\"\"\""
   ]
  },
  {
   "cell_type": "code",
   "execution_count": 19,
   "id": "6587f2c7-1573-43e6-8c43-99a3223a44f0",
   "metadata": {},
   "outputs": [
    {
     "name": "stdout",
     "output_type": "stream",
     "text": [
      "(23338, 58)\n",
      "(19789, 58)\n"
     ]
    }
   ],
   "source": [
    "print(w_outliers.shape)\n",
    "print(wo_outliers.shape)"
   ]
  },
  {
   "cell_type": "code",
   "execution_count": 21,
   "id": "7a69bbca-edbb-4a1c-80c2-362aa86354d9",
   "metadata": {},
   "outputs": [],
   "source": [
    "# Tamaño de particiones (e.g., 70% train, 15% validation, 15% test)\n",
    "train_size = 0.7\n",
    "validation_size = 0.15\n",
    "test_size = 0.15\n",
    "\n",
    "# Dividir en train y (validation + test)\n",
    "train_data, temp_data = train_test_split(w_outliers, test_size=(1 - train_size), random_state=42)\n",
    "\n",
    "# Dividir temp_data en validation y test\n",
    "validation_data, test_data = train_test_split(temp_data, test_size=test_size / (test_size + validation_size), random_state=42)\n"
   ]
  },
  {
   "cell_type": "code",
   "execution_count": 41,
   "id": "4d11f2fa-20d1-4d73-bd22-fd6985df42a5",
   "metadata": {},
   "outputs": [
    {
     "data": {
      "text/plain": [
       "(16336, 61)"
      ]
     },
     "execution_count": 41,
     "metadata": {},
     "output_type": "execute_result"
    }
   ],
   "source": [
    "train_data.shape"
   ]
  },
  {
   "cell_type": "code",
   "execution_count": 23,
   "id": "88b065a9-400a-4002-9947-b1e1412aca23",
   "metadata": {},
   "outputs": [],
   "source": [
    "train_data[\"log_price\"]= np.log(train_data.price)\n",
    "train_data['boxcox_host_total_listings_count'], fitted_lambda = stats.boxcox(train_data['host_total_listings_count'])\n",
    "train_data[\"log_host_total_listings_count\"]= np.log(train_data.host_total_listings_count)"
   ]
  },
  {
   "cell_type": "code",
   "execution_count": 27,
   "id": "6d5e0a64-e8f1-4cff-986b-332804bc2c68",
   "metadata": {},
   "outputs": [
    {
     "data": {
      "application/vnd.jupyter.widget-view+json": {
       "model_id": "62ccf463c8f24bea95245477c698e5ca",
       "version_major": 2,
       "version_minor": 0
      },
      "text/plain": [
       "Summarize dataset:   0%|          | 0/5 [00:00<?, ?it/s]"
      ]
     },
     "metadata": {},
     "output_type": "display_data"
    },
    {
     "data": {
      "application/vnd.jupyter.widget-view+json": {
       "model_id": "069ace9d06794ff597d9085040517023",
       "version_major": 2,
       "version_minor": 0
      },
      "text/plain": [
       "Generate report structure:   0%|          | 0/1 [00:00<?, ?it/s]"
      ]
     },
     "metadata": {},
     "output_type": "display_data"
    },
    {
     "data": {
      "application/vnd.jupyter.widget-view+json": {
       "model_id": "ea976abff2734ff3a0b4330ca3acf666",
       "version_major": 2,
       "version_minor": 0
      },
      "text/plain": [
       "Render HTML:   0%|          | 0/1 [00:00<?, ?it/s]"
      ]
     },
     "metadata": {},
     "output_type": "display_data"
    },
    {
     "data": {
      "application/vnd.jupyter.widget-view+json": {
       "model_id": "63658076806f48e28d78155e6eb14959",
       "version_major": 2,
       "version_minor": 0
      },
      "text/plain": [
       "Export report to file:   0%|          | 0/1 [00:00<?, ?it/s]"
      ]
     },
     "metadata": {},
     "output_type": "display_data"
    }
   ],
   "source": [
    "profile = ProfileReport(train_data[numvrs+[\"log_price\",\"log_host_total_listings_count\",\"boxcox_host_total_listings_count\"]].copy(), minimal=True)\n",
    "profile.to_file(\"Arbnb_EDA_num.html\")"
   ]
  },
  {
   "cell_type": "code",
   "execution_count": 33,
   "id": "108d5469-da06-4ca5-b3c0-57b05331453f",
   "metadata": {},
   "outputs": [],
   "source": [
    "Q1 = train_data['boxcox_host_total_listings_count'].quantile(0.25)\n",
    "Q3 = train_data['boxcox_host_total_listings_count'].quantile(0.75)\n",
    "IQR = Q3 - Q1\n",
    "wo_outliers_train_data = train_data[~((train_data['boxcox_host_total_listings_count'] < (Q1 - 1.5 * IQR)) | \n",
    "                                         (train_data['boxcox_host_total_listings_count'] > (Q3 + 1.5 * IQR)))]"
   ]
  },
  {
   "cell_type": "code",
   "execution_count": 35,
   "id": "ce81ee3a-e12a-457c-8413-cf90c9d495ee",
   "metadata": {},
   "outputs": [],
   "source": [
    "Q1 = wo_outliers_train_data['log_price'].quantile(0.25)\n",
    "Q3 = wo_outliers_train_data['log_price'].quantile(0.75)\n",
    "IQR = Q3 - Q1\n",
    "wo_outliers_train_data = wo_outliers_train_data[~((wo_outliers_train_data['log_price'] < (Q1 - 1.5 * IQR)) | \n",
    "                                         (wo_outliers_train_data['log_price'] > (Q3 + 1.5 * IQR)))]"
   ]
  },
  {
   "cell_type": "code",
   "execution_count": 37,
   "id": "b6cfd15e-dc99-48f2-946a-698b0c79737a",
   "metadata": {},
   "outputs": [
    {
     "data": {
      "text/plain": [
       "(16046, 61)"
      ]
     },
     "execution_count": 37,
     "metadata": {},
     "output_type": "execute_result"
    }
   ],
   "source": [
    "wo_outliers_train_data.shape"
   ]
  },
  {
   "cell_type": "code",
   "execution_count": 43,
   "id": "0380e8a0-95fe-4d2c-8801-9154ddf5fb3c",
   "metadata": {},
   "outputs": [],
   "source": [
    "final_nums = [element for element in numvrs if element != \"price\" and element != \"host_total_listings_count\" and element != \"Unnamed: 0\"] + [\"log_price\",\"boxcox_host_total_listings_count\"]\n",
    "num_fin = wo_outliers_train_data[final_nums]"
   ]
  },
  {
   "cell_type": "code",
   "execution_count": 45,
   "id": "75512787-9dff-4252-9a44-0de63fe6ea10",
   "metadata": {},
   "outputs": [],
   "source": [
    "selector = VarianceThreshold(threshold=0.1)  # Elimina características con varianza menor a 0.1\n",
    "df_reduced_num = selector.fit_transform(num_fin)\n",
    "df_reduced_num = pd.DataFrame(df_reduced_num, columns=num_fin.columns[selector.get_support()])"
   ]
  },
  {
   "cell_type": "code",
   "execution_count": 47,
   "id": "86f45d42-97ff-471f-a785-928b04537ff8",
   "metadata": {},
   "outputs": [
    {
     "data": {
      "text/plain": [
       "['host_acceptance_rate', 'longitude', 'host_response_rate', 'latitude']"
      ]
     },
     "execution_count": 47,
     "metadata": {},
     "output_type": "execute_result"
    }
   ],
   "source": [
    "# Los ratios de aceptación fueron eliminados por baja variación se forzó mantener la latidu y la longitud\n",
    "lreducednum = df_reduced_num.columns.to_list()\n",
    "list(set(wo_outliers_train_data[final_nums].columns.to_list()) - set(lreducednum))"
   ]
  },
  {
   "cell_type": "code",
   "execution_count": 49,
   "id": "feec6e4c-1281-4b86-8e61-308992e6068c",
   "metadata": {},
   "outputs": [
    {
     "data": {
      "text/html": [
       "<div>\n",
       "<style scoped>\n",
       "    .dataframe tbody tr th:only-of-type {\n",
       "        vertical-align: middle;\n",
       "    }\n",
       "\n",
       "    .dataframe tbody tr th {\n",
       "        vertical-align: top;\n",
       "    }\n",
       "\n",
       "    .dataframe thead th {\n",
       "        text-align: right;\n",
       "    }\n",
       "</style>\n",
       "<table border=\"1\" class=\"dataframe\">\n",
       "  <thead>\n",
       "    <tr style=\"text-align: right;\">\n",
       "      <th></th>\n",
       "      <th>calculated_host_listings_count_shared_rooms</th>\n",
       "      <th>accommodates</th>\n",
       "      <th>calculated_host_listings_count_entire_homes</th>\n",
       "      <th>longitude</th>\n",
       "      <th>beds</th>\n",
       "      <th>calculated_host_listings_count_private_rooms</th>\n",
       "      <th>log_price</th>\n",
       "      <th>boxcox_host_total_listings_count</th>\n",
       "      <th>latitude</th>\n",
       "      <th>bedrooms</th>\n",
       "    </tr>\n",
       "  </thead>\n",
       "  <tbody>\n",
       "    <tr>\n",
       "      <th>7861</th>\n",
       "      <td>0</td>\n",
       "      <td>4</td>\n",
       "      <td>8</td>\n",
       "      <td>-99.163020</td>\n",
       "      <td>2.0</td>\n",
       "      <td>0</td>\n",
       "      <td>6.963190</td>\n",
       "      <td>1.732459</td>\n",
       "      <td>19.432250</td>\n",
       "      <td>2.0</td>\n",
       "    </tr>\n",
       "    <tr>\n",
       "      <th>14494</th>\n",
       "      <td>0</td>\n",
       "      <td>4</td>\n",
       "      <td>1</td>\n",
       "      <td>-99.160202</td>\n",
       "      <td>2.0</td>\n",
       "      <td>0</td>\n",
       "      <td>7.568379</td>\n",
       "      <td>0.000000</td>\n",
       "      <td>19.421836</td>\n",
       "      <td>2.0</td>\n",
       "    </tr>\n",
       "    <tr>\n",
       "      <th>19524</th>\n",
       "      <td>0</td>\n",
       "      <td>2</td>\n",
       "      <td>7</td>\n",
       "      <td>-99.166095</td>\n",
       "      <td>1.0</td>\n",
       "      <td>0</td>\n",
       "      <td>7.242082</td>\n",
       "      <td>1.659754</td>\n",
       "      <td>19.425170</td>\n",
       "      <td>1.0</td>\n",
       "    </tr>\n",
       "    <tr>\n",
       "      <th>11165</th>\n",
       "      <td>0</td>\n",
       "      <td>4</td>\n",
       "      <td>0</td>\n",
       "      <td>-99.134930</td>\n",
       "      <td>2.0</td>\n",
       "      <td>4</td>\n",
       "      <td>7.154615</td>\n",
       "      <td>1.988607</td>\n",
       "      <td>19.381810</td>\n",
       "      <td>2.0</td>\n",
       "    </tr>\n",
       "    <tr>\n",
       "      <th>12509</th>\n",
       "      <td>0</td>\n",
       "      <td>4</td>\n",
       "      <td>12</td>\n",
       "      <td>-99.176576</td>\n",
       "      <td>2.0</td>\n",
       "      <td>4</td>\n",
       "      <td>7.044905</td>\n",
       "      <td>2.503958</td>\n",
       "      <td>19.443067</td>\n",
       "      <td>2.0</td>\n",
       "    </tr>\n",
       "    <tr>\n",
       "      <th>...</th>\n",
       "      <td>...</td>\n",
       "      <td>...</td>\n",
       "      <td>...</td>\n",
       "      <td>...</td>\n",
       "      <td>...</td>\n",
       "      <td>...</td>\n",
       "      <td>...</td>\n",
       "      <td>...</td>\n",
       "      <td>...</td>\n",
       "      <td>...</td>\n",
       "    </tr>\n",
       "    <tr>\n",
       "      <th>11964</th>\n",
       "      <td>0</td>\n",
       "      <td>4</td>\n",
       "      <td>2</td>\n",
       "      <td>-99.183102</td>\n",
       "      <td>2.0</td>\n",
       "      <td>0</td>\n",
       "      <td>7.317876</td>\n",
       "      <td>0.973040</td>\n",
       "      <td>19.440236</td>\n",
       "      <td>2.0</td>\n",
       "    </tr>\n",
       "    <tr>\n",
       "      <th>21575</th>\n",
       "      <td>0</td>\n",
       "      <td>2</td>\n",
       "      <td>0</td>\n",
       "      <td>-99.120110</td>\n",
       "      <td>1.0</td>\n",
       "      <td>7</td>\n",
       "      <td>5.683580</td>\n",
       "      <td>1.732459</td>\n",
       "      <td>19.485270</td>\n",
       "      <td>1.0</td>\n",
       "    </tr>\n",
       "    <tr>\n",
       "      <th>5390</th>\n",
       "      <td>0</td>\n",
       "      <td>4</td>\n",
       "      <td>1</td>\n",
       "      <td>-99.134370</td>\n",
       "      <td>2.0</td>\n",
       "      <td>0</td>\n",
       "      <td>6.431331</td>\n",
       "      <td>0.000000</td>\n",
       "      <td>19.452840</td>\n",
       "      <td>1.0</td>\n",
       "    </tr>\n",
       "    <tr>\n",
       "      <th>860</th>\n",
       "      <td>0</td>\n",
       "      <td>1</td>\n",
       "      <td>0</td>\n",
       "      <td>-99.198350</td>\n",
       "      <td>1.0</td>\n",
       "      <td>7</td>\n",
       "      <td>6.396930</td>\n",
       "      <td>1.574956</td>\n",
       "      <td>19.341480</td>\n",
       "      <td>1.0</td>\n",
       "    </tr>\n",
       "    <tr>\n",
       "      <th>15795</th>\n",
       "      <td>0</td>\n",
       "      <td>6</td>\n",
       "      <td>1</td>\n",
       "      <td>-99.183735</td>\n",
       "      <td>3.0</td>\n",
       "      <td>0</td>\n",
       "      <td>6.907755</td>\n",
       "      <td>0.000000</td>\n",
       "      <td>19.442308</td>\n",
       "      <td>2.0</td>\n",
       "    </tr>\n",
       "  </tbody>\n",
       "</table>\n",
       "<p>16046 rows × 10 columns</p>\n",
       "</div>"
      ],
      "text/plain": [
       "       calculated_host_listings_count_shared_rooms  accommodates  \\\n",
       "7861                                             0             4   \n",
       "14494                                            0             4   \n",
       "19524                                            0             2   \n",
       "11165                                            0             4   \n",
       "12509                                            0             4   \n",
       "...                                            ...           ...   \n",
       "11964                                            0             4   \n",
       "21575                                            0             2   \n",
       "5390                                             0             4   \n",
       "860                                              0             1   \n",
       "15795                                            0             6   \n",
       "\n",
       "       calculated_host_listings_count_entire_homes  longitude  beds  \\\n",
       "7861                                             8 -99.163020   2.0   \n",
       "14494                                            1 -99.160202   2.0   \n",
       "19524                                            7 -99.166095   1.0   \n",
       "11165                                            0 -99.134930   2.0   \n",
       "12509                                           12 -99.176576   2.0   \n",
       "...                                            ...        ...   ...   \n",
       "11964                                            2 -99.183102   2.0   \n",
       "21575                                            0 -99.120110   1.0   \n",
       "5390                                             1 -99.134370   2.0   \n",
       "860                                              0 -99.198350   1.0   \n",
       "15795                                            1 -99.183735   3.0   \n",
       "\n",
       "       calculated_host_listings_count_private_rooms  log_price  \\\n",
       "7861                                              0   6.963190   \n",
       "14494                                             0   7.568379   \n",
       "19524                                             0   7.242082   \n",
       "11165                                             4   7.154615   \n",
       "12509                                             4   7.044905   \n",
       "...                                             ...        ...   \n",
       "11964                                             0   7.317876   \n",
       "21575                                             7   5.683580   \n",
       "5390                                              0   6.431331   \n",
       "860                                               7   6.396930   \n",
       "15795                                             0   6.907755   \n",
       "\n",
       "       boxcox_host_total_listings_count   latitude  bedrooms  \n",
       "7861                           1.732459  19.432250       2.0  \n",
       "14494                          0.000000  19.421836       2.0  \n",
       "19524                          1.659754  19.425170       1.0  \n",
       "11165                          1.988607  19.381810       2.0  \n",
       "12509                          2.503958  19.443067       2.0  \n",
       "...                                 ...        ...       ...  \n",
       "11964                          0.973040  19.440236       2.0  \n",
       "21575                          1.732459  19.485270       1.0  \n",
       "5390                           0.000000  19.452840       1.0  \n",
       "860                            1.574956  19.341480       1.0  \n",
       "15795                          0.000000  19.442308       2.0  \n",
       "\n",
       "[16046 rows x 10 columns]"
      ]
     },
     "execution_count": 49,
     "metadata": {},
     "output_type": "execute_result"
    }
   ],
   "source": [
    "final_nums = list(set(wo_outliers_train_data[final_nums].columns.to_list()) - set([\"host_acceptance_rate\",\"host_response_rate\"]))\n",
    "wo_outliers_train_data[final_nums]"
   ]
  },
  {
   "cell_type": "code",
   "execution_count": 53,
   "id": "e5b01913-eba6-4999-b046-44ac36a222ed",
   "metadata": {},
   "outputs": [],
   "source": [
    "catvrsf = [element for element in catvrs if element != \"id\"  and element != \"Unnamed: 0\"]"
   ]
  },
  {
   "cell_type": "code",
   "execution_count": 55,
   "id": "b9ce05a4-e3bd-43e0-a3e1-4c04080d3d75",
   "metadata": {},
   "outputs": [
    {
     "data": {
      "application/vnd.jupyter.widget-view+json": {
       "model_id": "23e0fd4674874343a9d810fff1ce75ab",
       "version_major": 2,
       "version_minor": 0
      },
      "text/plain": [
       "Summarize dataset:   0%|          | 0/5 [00:00<?, ?it/s]"
      ]
     },
     "metadata": {},
     "output_type": "display_data"
    },
    {
     "data": {
      "application/vnd.jupyter.widget-view+json": {
       "model_id": "a5f4bd8d68384a1b9c451cfae1d761b7",
       "version_major": 2,
       "version_minor": 0
      },
      "text/plain": [
       "Generate report structure:   0%|          | 0/1 [00:00<?, ?it/s]"
      ]
     },
     "metadata": {},
     "output_type": "display_data"
    },
    {
     "data": {
      "application/vnd.jupyter.widget-view+json": {
       "model_id": "f20974e7e99447cfad8aa3fe56ce83ff",
       "version_major": 2,
       "version_minor": 0
      },
      "text/plain": [
       "Render HTML:   0%|          | 0/1 [00:00<?, ?it/s]"
      ]
     },
     "metadata": {},
     "output_type": "display_data"
    },
    {
     "data": {
      "application/vnd.jupyter.widget-view+json": {
       "model_id": "1580a7b660144b889b30e08e2124aa7f",
       "version_major": 2,
       "version_minor": 0
      },
      "text/plain": [
       "Export report to file:   0%|          | 0/1 [00:00<?, ?it/s]"
      ]
     },
     "metadata": {},
     "output_type": "display_data"
    }
   ],
   "source": [
    "profile = ProfileReport(wo_outliers_train_data[catvrsf].copy(), minimal=True)\n",
    "profile.to_file(\"Arbnb_EDA_cat.html\")"
   ]
  },
  {
   "cell_type": "code",
   "execution_count": 57,
   "id": "e09f61bb-951b-4781-a56c-95f54476f8f7",
   "metadata": {},
   "outputs": [],
   "source": [
    "# Eliminando host_identity_verified y host_has_profile_pic debido a que son constantes\n",
    "catvrsf = list(set(catvrsf) - set([\"host_identity_verified\",\"host_has_profile_pic\"]))"
   ]
  },
  {
   "cell_type": "code",
   "execution_count": 59,
   "id": "c924b481-d274-4c54-991b-d8361667d32c",
   "metadata": {},
   "outputs": [],
   "source": [
    "selector = VarianceThreshold(threshold=0.2)  # Elimina características con varianza menor a 0.9\n",
    "df_reduced_cat = selector.fit_transform(wo_outliers_train_data[catvrsf])\n",
    "df_reduced_cat = pd.DataFrame(df_reduced_cat, columns=wo_outliers_train_data[catvrsf].columns[selector.get_support()])"
   ]
  },
  {
   "cell_type": "code",
   "execution_count": 61,
   "id": "160329ff-34e6-4825-806c-0ca8c647925c",
   "metadata": {},
   "outputs": [
    {
     "name": "stdout",
     "output_type": "stream",
     "text": [
      "31\n",
      "43\n"
     ]
    }
   ],
   "source": [
    "final_cats = list(set(wo_outliers_train_data[catvrsf].columns.to_list()) - set(df_reduced_cat.columns.to_list()))\n",
    "print(len(final_cats))\n",
    "print(len(catvrsf))"
   ]
  },
  {
   "cell_type": "code",
   "execution_count": 63,
   "id": "00b46457-80c3-4787-9bba-c21871340669",
   "metadata": {},
   "outputs": [],
   "source": [
    "presel = final_cats+final_nums"
   ]
  },
  {
   "cell_type": "code",
   "execution_count": 65,
   "id": "612bb9aa-0519-463b-82bb-945090799cae",
   "metadata": {},
   "outputs": [
    {
     "name": "stdout",
     "output_type": "stream",
     "text": [
      "Variables seleccionadas después de eliminar las correlacionadas y su información mutua:\n",
      "                                        Feature  Mutual Information\n",
      "33  calculated_host_listings_count_entire_homes            0.353042\n",
      "32                                 accommodates            0.289169\n",
      "38                                     latitude            0.242637\n",
      "34                                    longitude            0.228261\n",
      "2                         bathrooms_type_shared            0.123684\n",
      "31  calculated_host_listings_count_shared_rooms            0.057749\n",
      "0                         room_type_Shared_room            0.036599\n",
      "30                      alcaldia_Miguel_Hidalgo            0.031787\n",
      "13                                host_location            0.024569\n",
      "12        host_response_time_within_a_few_hours            0.020161\n",
      "4                        alcaldia_Benito_Juárez            0.015629\n",
      "19                host_verifications_work_email            0.015204\n",
      "29                            alcaldia_Coyoacán            0.012617\n",
      "20              host_response_time_within_a_day            0.012259\n",
      "6                    alcaldia_Gustavo_A._Madero            0.012083\n",
      "3                            alcaldia_Iztacalco            0.011358\n",
      "9         host_response_time_a_few_days_or_more            0.010415\n",
      "15                     host_verifications_email            0.010371\n",
      "1                       alcaldia_Álvaro_Obregón            0.009407\n",
      "7                         alcaldia_Azcapotzalco            0.009091\n",
      "18                             alcaldia_Tláhuac            0.008245\n",
      "5                              alcaldia_Tlalpan            0.007746\n",
      "11                          alcaldia_Iztapalapa            0.006303\n",
      "21               alcaldia_Cuajimalpa_de_Morelos            0.005633\n",
      "24                 alcaldia_Venustiano_Carranza            0.005380\n",
      "8                      host_verifications_phone            0.003976\n",
      "16                         room_type_Hotel_room            0.003391\n",
      "27              alcaldia_La_Magdalena_Contreras            0.002604\n",
      "28                          alcaldia_Milpa_Alta            0.002082\n",
      "14                                  description            0.000579\n",
      "10                          alcaldia_Xochimilco            0.000026\n",
      "Conjunto de datos final con variables transformadas y filtradas:\n",
      "       room_type_Shared_room  alcaldia_Álvaro_Obregón  bathrooms_type_shared  \\\n",
      "7861                       0                        0                      0   \n",
      "14494                      0                        0                      0   \n",
      "19524                      0                        0                      0   \n",
      "11165                      0                        0                      0   \n",
      "12509                      0                        0                      0   \n",
      "\n",
      "       alcaldia_Iztacalco  alcaldia_Benito_Juárez  alcaldia_Tlalpan  \\\n",
      "7861                    0                       0                 0   \n",
      "14494                   0                       0                 0   \n",
      "19524                   0                       0                 0   \n",
      "11165                   0                       1                 0   \n",
      "12509                   0                       0                 0   \n",
      "\n",
      "       alcaldia_Gustavo_A._Madero  alcaldia_Azcapotzalco  \\\n",
      "7861                            0                      0   \n",
      "14494                           0                      0   \n",
      "19524                           0                      0   \n",
      "11165                           0                      0   \n",
      "12509                           0                      0   \n",
      "\n",
      "       host_verifications_phone  host_response_time_a_few_days_or_more  ...  \\\n",
      "7861                          1                                      0  ...   \n",
      "14494                         1                                      0  ...   \n",
      "19524                         1                                      0  ...   \n",
      "11165                         1                                      0  ...   \n",
      "12509                         1                                      0  ...   \n",
      "\n",
      "       alcaldia_La_Magdalena_Contreras  alcaldia_Milpa_Alta  \\\n",
      "7861                                 0                    0   \n",
      "14494                                0                    0   \n",
      "19524                                0                    0   \n",
      "11165                                0                    0   \n",
      "12509                                0                    0   \n",
      "\n",
      "       alcaldia_Coyoacán  alcaldia_Miguel_Hidalgo  \\\n",
      "7861                   0                        0   \n",
      "14494                  0                        0   \n",
      "19524                  0                        0   \n",
      "11165                  0                        0   \n",
      "12509                  0                        1   \n",
      "\n",
      "       calculated_host_listings_count_shared_rooms  accommodates  \\\n",
      "7861                                             0             4   \n",
      "14494                                            0             4   \n",
      "19524                                            0             2   \n",
      "11165                                            0             4   \n",
      "12509                                            0             4   \n",
      "\n",
      "       calculated_host_listings_count_entire_homes  longitude   latitude  \\\n",
      "7861                                             8 -99.163020  19.432250   \n",
      "14494                                            1 -99.160202  19.421836   \n",
      "19524                                            7 -99.166095  19.425170   \n",
      "11165                                            0 -99.134930  19.381810   \n",
      "12509                                           12 -99.176576  19.443067   \n",
      "\n",
      "       log_price  \n",
      "7861    6.963190  \n",
      "14494   7.568379  \n",
      "19524   7.242082  \n",
      "11165   7.154615  \n",
      "12509   7.044905  \n",
      "\n",
      "[5 rows x 32 columns]\n"
     ]
    }
   ],
   "source": [
    "\n",
    "df = wo_outliers_train_data[presel].copy()\n",
    "\n",
    "# Crear transformaciones cuadráticas y cúbicas de cada variable\n",
    "for col in df.columns.drop('log_price'):\n",
    "    df[f'{col}_squared'] = df[col] ** 2\n",
    "    df[f'{col}_cubed'] = df[col] ** 3\n",
    "\n",
    "# Separar características y variable objetivo\n",
    "X = df.drop(columns=['log_price'])\n",
    "y = df['log_price']\n",
    "\n",
    "# Calcular la información mutua de cada variable con respecto a 'log_price'\n",
    "mi_scores = mutual_info_regression(X, y)\n",
    "mi_df = pd.DataFrame({'Feature': X.columns, 'Mutual Information': mi_scores})\n",
    "\n",
    "# Filtrar por las variables con la información mutua más alta\n",
    "mi_df = mi_df.sort_values(by='Mutual Information', ascending=False)\n",
    "\n",
    "# Eliminar variables correlacionadas\n",
    "# Calculamos la matriz de correlación y aplicamos un umbral para seleccionar las no redundantes\n",
    "correlation_matrix = X.corr().abs()\n",
    "upper_triangle = correlation_matrix.where(np.triu(np.ones(correlation_matrix.shape), k=1).astype(bool))\n",
    "\n",
    "# Umbral de correlación alta (ajustable según tus necesidades, e.g., 0.8)\n",
    "threshold = 0.5\n",
    "to_drop = [column for column in upper_triangle.columns if any(upper_triangle[column] > threshold)]\n",
    "\n",
    "# Filtramos las variables menos correlacionadas y más informativas\n",
    "X_filtered = X.drop(columns=to_drop)\n",
    "mi_filtered_df = mi_df[~mi_df['Feature'].isin(to_drop)]\n",
    "\n",
    "# Mostrar las variables seleccionadas y sus puntajes de información mutua\n",
    "print(\"Variables seleccionadas después de eliminar las correlacionadas y su información mutua:\")\n",
    "print(mi_filtered_df)\n",
    "\n",
    "# Si deseas mostrar el conjunto de datos filtrado\n",
    "X_filtered['log_price'] = y  # Agregamos la variable objetivo para referencia\n",
    "print(\"Conjunto de datos final con variables transformadas y filtradas:\")\n",
    "print(X_filtered.head())\n"
   ]
  },
  {
   "cell_type": "code",
   "execution_count": 68,
   "id": "d4b7191e-255d-45b0-9fe5-508e43c7cd86",
   "metadata": {},
   "outputs": [
    {
     "data": {
      "text/html": [
       "<div>\n",
       "<style scoped>\n",
       "    .dataframe tbody tr th:only-of-type {\n",
       "        vertical-align: middle;\n",
       "    }\n",
       "\n",
       "    .dataframe tbody tr th {\n",
       "        vertical-align: top;\n",
       "    }\n",
       "\n",
       "    .dataframe thead th {\n",
       "        text-align: right;\n",
       "    }\n",
       "</style>\n",
       "<table border=\"1\" class=\"dataframe\">\n",
       "  <thead>\n",
       "    <tr style=\"text-align: right;\">\n",
       "      <th></th>\n",
       "      <th>calculated_host_listings_count_entire_homes</th>\n",
       "      <th>accommodates</th>\n",
       "      <th>latitude</th>\n",
       "      <th>longitude</th>\n",
       "      <th>bathrooms_type_shared</th>\n",
       "      <th>calculated_host_listings_count_shared_rooms</th>\n",
       "      <th>room_type_Shared_room</th>\n",
       "      <th>alcaldia_Miguel_Hidalgo</th>\n",
       "      <th>host_location</th>\n",
       "      <th>host_response_time_within_a_few_hours</th>\n",
       "    </tr>\n",
       "  </thead>\n",
       "  <tbody>\n",
       "    <tr>\n",
       "      <th>calculated_host_listings_count_entire_homes</th>\n",
       "      <td>1.000000</td>\n",
       "      <td>0.063682</td>\n",
       "      <td>0.100346</td>\n",
       "      <td>-0.065796</td>\n",
       "      <td>-0.121281</td>\n",
       "      <td>-0.033349</td>\n",
       "      <td>-0.040695</td>\n",
       "      <td>0.055238</td>\n",
       "      <td>-0.129780</td>\n",
       "      <td>-0.088689</td>\n",
       "    </tr>\n",
       "    <tr>\n",
       "      <th>accommodates</th>\n",
       "      <td>0.063682</td>\n",
       "      <td>1.000000</td>\n",
       "      <td>0.016084</td>\n",
       "      <td>0.012711</td>\n",
       "      <td>-0.259148</td>\n",
       "      <td>-0.067756</td>\n",
       "      <td>-0.059727</td>\n",
       "      <td>0.035712</td>\n",
       "      <td>-0.028849</td>\n",
       "      <td>-0.047093</td>\n",
       "    </tr>\n",
       "    <tr>\n",
       "      <th>latitude</th>\n",
       "      <td>0.100346</td>\n",
       "      <td>0.016084</td>\n",
       "      <td>1.000000</td>\n",
       "      <td>0.109558</td>\n",
       "      <td>-0.013980</td>\n",
       "      <td>0.093899</td>\n",
       "      <td>0.033138</td>\n",
       "      <td>0.269833</td>\n",
       "      <td>-0.044546</td>\n",
       "      <td>-0.048905</td>\n",
       "    </tr>\n",
       "    <tr>\n",
       "      <th>longitude</th>\n",
       "      <td>-0.065796</td>\n",
       "      <td>0.012711</td>\n",
       "      <td>0.109558</td>\n",
       "      <td>1.000000</td>\n",
       "      <td>0.048586</td>\n",
       "      <td>0.045571</td>\n",
       "      <td>0.055255</td>\n",
       "      <td>-0.336337</td>\n",
       "      <td>-0.031995</td>\n",
       "      <td>-0.008366</td>\n",
       "    </tr>\n",
       "    <tr>\n",
       "      <th>bathrooms_type_shared</th>\n",
       "      <td>-0.121281</td>\n",
       "      <td>-0.259148</td>\n",
       "      <td>-0.013980</td>\n",
       "      <td>0.048586</td>\n",
       "      <td>1.000000</td>\n",
       "      <td>0.203958</td>\n",
       "      <td>0.328016</td>\n",
       "      <td>-0.033004</td>\n",
       "      <td>0.044120</td>\n",
       "      <td>0.074672</td>\n",
       "    </tr>\n",
       "    <tr>\n",
       "      <th>calculated_host_listings_count_shared_rooms</th>\n",
       "      <td>-0.033349</td>\n",
       "      <td>-0.067756</td>\n",
       "      <td>0.093899</td>\n",
       "      <td>0.045571</td>\n",
       "      <td>0.203958</td>\n",
       "      <td>1.000000</td>\n",
       "      <td>0.429328</td>\n",
       "      <td>-0.029338</td>\n",
       "      <td>0.042568</td>\n",
       "      <td>0.208330</td>\n",
       "    </tr>\n",
       "    <tr>\n",
       "      <th>room_type_Shared_room</th>\n",
       "      <td>-0.040695</td>\n",
       "      <td>-0.059727</td>\n",
       "      <td>0.033138</td>\n",
       "      <td>0.055255</td>\n",
       "      <td>0.328016</td>\n",
       "      <td>0.429328</td>\n",
       "      <td>1.000000</td>\n",
       "      <td>-0.022727</td>\n",
       "      <td>0.004639</td>\n",
       "      <td>0.070355</td>\n",
       "    </tr>\n",
       "    <tr>\n",
       "      <th>alcaldia_Miguel_Hidalgo</th>\n",
       "      <td>0.055238</td>\n",
       "      <td>0.035712</td>\n",
       "      <td>0.269833</td>\n",
       "      <td>-0.336337</td>\n",
       "      <td>-0.033004</td>\n",
       "      <td>-0.029338</td>\n",
       "      <td>-0.022727</td>\n",
       "      <td>1.000000</td>\n",
       "      <td>0.002997</td>\n",
       "      <td>-0.017596</td>\n",
       "    </tr>\n",
       "    <tr>\n",
       "      <th>host_location</th>\n",
       "      <td>-0.129780</td>\n",
       "      <td>-0.028849</td>\n",
       "      <td>-0.044546</td>\n",
       "      <td>-0.031995</td>\n",
       "      <td>0.044120</td>\n",
       "      <td>0.042568</td>\n",
       "      <td>0.004639</td>\n",
       "      <td>0.002997</td>\n",
       "      <td>1.000000</td>\n",
       "      <td>0.030345</td>\n",
       "    </tr>\n",
       "    <tr>\n",
       "      <th>host_response_time_within_a_few_hours</th>\n",
       "      <td>-0.088689</td>\n",
       "      <td>-0.047093</td>\n",
       "      <td>-0.048905</td>\n",
       "      <td>-0.008366</td>\n",
       "      <td>0.074672</td>\n",
       "      <td>0.208330</td>\n",
       "      <td>0.070355</td>\n",
       "      <td>-0.017596</td>\n",
       "      <td>0.030345</td>\n",
       "      <td>1.000000</td>\n",
       "    </tr>\n",
       "  </tbody>\n",
       "</table>\n",
       "</div>"
      ],
      "text/plain": [
       "                                             calculated_host_listings_count_entire_homes  \\\n",
       "calculated_host_listings_count_entire_homes                                     1.000000   \n",
       "accommodates                                                                    0.063682   \n",
       "latitude                                                                        0.100346   \n",
       "longitude                                                                      -0.065796   \n",
       "bathrooms_type_shared                                                          -0.121281   \n",
       "calculated_host_listings_count_shared_rooms                                    -0.033349   \n",
       "room_type_Shared_room                                                          -0.040695   \n",
       "alcaldia_Miguel_Hidalgo                                                         0.055238   \n",
       "host_location                                                                  -0.129780   \n",
       "host_response_time_within_a_few_hours                                          -0.088689   \n",
       "\n",
       "                                             accommodates  latitude  \\\n",
       "calculated_host_listings_count_entire_homes      0.063682  0.100346   \n",
       "accommodates                                     1.000000  0.016084   \n",
       "latitude                                         0.016084  1.000000   \n",
       "longitude                                        0.012711  0.109558   \n",
       "bathrooms_type_shared                           -0.259148 -0.013980   \n",
       "calculated_host_listings_count_shared_rooms     -0.067756  0.093899   \n",
       "room_type_Shared_room                           -0.059727  0.033138   \n",
       "alcaldia_Miguel_Hidalgo                          0.035712  0.269833   \n",
       "host_location                                   -0.028849 -0.044546   \n",
       "host_response_time_within_a_few_hours           -0.047093 -0.048905   \n",
       "\n",
       "                                             longitude  bathrooms_type_shared  \\\n",
       "calculated_host_listings_count_entire_homes  -0.065796              -0.121281   \n",
       "accommodates                                  0.012711              -0.259148   \n",
       "latitude                                      0.109558              -0.013980   \n",
       "longitude                                     1.000000               0.048586   \n",
       "bathrooms_type_shared                         0.048586               1.000000   \n",
       "calculated_host_listings_count_shared_rooms   0.045571               0.203958   \n",
       "room_type_Shared_room                         0.055255               0.328016   \n",
       "alcaldia_Miguel_Hidalgo                      -0.336337              -0.033004   \n",
       "host_location                                -0.031995               0.044120   \n",
       "host_response_time_within_a_few_hours        -0.008366               0.074672   \n",
       "\n",
       "                                             calculated_host_listings_count_shared_rooms  \\\n",
       "calculated_host_listings_count_entire_homes                                    -0.033349   \n",
       "accommodates                                                                   -0.067756   \n",
       "latitude                                                                        0.093899   \n",
       "longitude                                                                       0.045571   \n",
       "bathrooms_type_shared                                                           0.203958   \n",
       "calculated_host_listings_count_shared_rooms                                     1.000000   \n",
       "room_type_Shared_room                                                           0.429328   \n",
       "alcaldia_Miguel_Hidalgo                                                        -0.029338   \n",
       "host_location                                                                   0.042568   \n",
       "host_response_time_within_a_few_hours                                           0.208330   \n",
       "\n",
       "                                             room_type_Shared_room  \\\n",
       "calculated_host_listings_count_entire_homes              -0.040695   \n",
       "accommodates                                             -0.059727   \n",
       "latitude                                                  0.033138   \n",
       "longitude                                                 0.055255   \n",
       "bathrooms_type_shared                                     0.328016   \n",
       "calculated_host_listings_count_shared_rooms               0.429328   \n",
       "room_type_Shared_room                                     1.000000   \n",
       "alcaldia_Miguel_Hidalgo                                  -0.022727   \n",
       "host_location                                             0.004639   \n",
       "host_response_time_within_a_few_hours                     0.070355   \n",
       "\n",
       "                                             alcaldia_Miguel_Hidalgo  \\\n",
       "calculated_host_listings_count_entire_homes                 0.055238   \n",
       "accommodates                                                0.035712   \n",
       "latitude                                                    0.269833   \n",
       "longitude                                                  -0.336337   \n",
       "bathrooms_type_shared                                      -0.033004   \n",
       "calculated_host_listings_count_shared_rooms                -0.029338   \n",
       "room_type_Shared_room                                      -0.022727   \n",
       "alcaldia_Miguel_Hidalgo                                     1.000000   \n",
       "host_location                                               0.002997   \n",
       "host_response_time_within_a_few_hours                      -0.017596   \n",
       "\n",
       "                                             host_location  \\\n",
       "calculated_host_listings_count_entire_homes      -0.129780   \n",
       "accommodates                                     -0.028849   \n",
       "latitude                                         -0.044546   \n",
       "longitude                                        -0.031995   \n",
       "bathrooms_type_shared                             0.044120   \n",
       "calculated_host_listings_count_shared_rooms       0.042568   \n",
       "room_type_Shared_room                             0.004639   \n",
       "alcaldia_Miguel_Hidalgo                           0.002997   \n",
       "host_location                                     1.000000   \n",
       "host_response_time_within_a_few_hours             0.030345   \n",
       "\n",
       "                                             host_response_time_within_a_few_hours  \n",
       "calculated_host_listings_count_entire_homes                              -0.088689  \n",
       "accommodates                                                             -0.047093  \n",
       "latitude                                                                 -0.048905  \n",
       "longitude                                                                -0.008366  \n",
       "bathrooms_type_shared                                                     0.074672  \n",
       "calculated_host_listings_count_shared_rooms                               0.208330  \n",
       "room_type_Shared_room                                                     0.070355  \n",
       "alcaldia_Miguel_Hidalgo                                                  -0.017596  \n",
       "host_location                                                             0.030345  \n",
       "host_response_time_within_a_few_hours                                     1.000000  "
      ]
     },
     "execution_count": 68,
     "metadata": {},
     "output_type": "execute_result"
    }
   ],
   "source": [
    "# Información mutua mayor a 0.011\n",
    "final_sel = mi_filtered_df.head(16).Feature.to_list()\n",
    "wo_outliers_train_data[final_sel].corr()"
   ]
  },
  {
   "cell_type": "code",
   "execution_count": 80,
   "id": "923f475c-e516-4f8f-9b8c-17b6d0228308",
   "metadata": {},
   "outputs": [
    {
     "name": "stdout",
     "output_type": "stream",
     "text": [
      "Best alpha based on validation set: 0.01\n",
      "Training RMSE: 0.5155790592124856\n",
      "Validation RMSE: 0.5440384032333262\n",
      "Test RMSE: 0.5618139808279051\n",
      "Training R^2: 0.4350426605625257\n",
      "Validation R^2: 0.47439444372002804\n",
      "Test R^2: 0.44942693516266763\n",
      "\n",
      "Lasso Coefficients:\n",
      "                                       Feature  Ridge Coefficient\n",
      "0  calculated_host_listings_count_entire_homes           0.623473\n",
      "1                                 accommodates           2.068846\n",
      "2                                     latitude           0.574185\n",
      "3                                    longitude          -1.476440\n",
      "4                        bathrooms_type_shared          -0.508608\n",
      "5  calculated_host_listings_count_shared_rooms          -0.734392\n",
      "6                        room_type_Shared_room          -0.218010\n",
      "7                      alcaldia_Miguel_Hidalgo           0.040079\n",
      "8                                host_location          -0.004571\n",
      "9        host_response_time_within_a_few_hours          -0.059058\n"
     ]
    }
   ],
   "source": [
    "\n",
    "\n",
    "# Split the data into training, validation, and test sets (60%-20%-20%)\n",
    "X_train = wo_outliers_train_data[final_sel]\n",
    "y_train = wo_outliers_train_data[\"log_price\"]\n",
    "X_val = validation_data[final_sel]\n",
    "X_test = test_data[final_sel]\n",
    "y_val = np.log(validation_data[\"price\"])\n",
    "y_test = np.log(test_data[\"price\"])\n",
    "\n",
    "# Scale the features using MinMaxScaler\n",
    "scaler = MinMaxScaler()\n",
    "X_train_scaled = scaler.fit_transform(X_train)\n",
    "X_val_scaled = scaler.transform(X_val)\n",
    "X_test_scaled = scaler.transform(X_test)\n",
    "\n",
    "# Initialize and fit the Ridge regression model\n",
    "# Use the validation set to tune alpha\n",
    "best_alpha = 0.1  # Initial guess for alpha\n",
    "best_val_score = float('-inf')\n",
    "alphas = [0.01, 0.1, 0.5, 1.0]  # Example alphas for tuning\n",
    "\n",
    "for alpha in alphas:\n",
    "    ridge =Ridge(alpha=alpha)\n",
    "    ridge.fit(X_train_scaled, y_train)\n",
    "    val_score = r2_score(y_val, ridge.predict(X_val_scaled))\n",
    "    if val_score > best_val_score:\n",
    "        best_val_score = val_score\n",
    "        best_alpha = alpha\n",
    "\n",
    "print(f\"Best alpha based on validation set: {best_alpha}\")\n",
    "\n",
    "# Train the final model with the best alpha on the training set\n",
    "final_model = Ridge(alpha=best_alpha)\n",
    "final_model.fit(X_train_scaled, y_train)\n",
    "\n",
    "# Evaluate the model\n",
    "y_train_pred = final_model.predict(X_train_scaled)\n",
    "y_val_pred = final_model.predict(X_val_scaled)\n",
    "y_test_pred = final_model.predict(X_test_scaled)\n",
    "\n",
    "print(\"Training RMSE:\", np.sqrt(mean_squared_error(y_train, y_train_pred)))\n",
    "print(\"Validation RMSE:\", np.sqrt(mean_squared_error(y_val, y_val_pred)))\n",
    "print(\"Test RMSE:\", np.sqrt(mean_squared_error(y_test, y_test_pred)))\n",
    "print(\"Training R^2:\", r2_score(y_train, y_train_pred))\n",
    "print(\"Validation R^2:\", r2_score(y_val, y_val_pred))\n",
    "print(\"Test R^2:\", r2_score(y_test, y_test_pred))\n",
    "\n",
    "# Display the coefficients\n",
    "coefficients = pd.DataFrame({'Feature': X_train.columns, 'Ridge Coefficient': final_model.coef_})\n",
    "print(\"\\Ridge Coefficients:\")\n",
    "print(coefficients)\n"
   ]
  }
 ],
 "metadata": {
  "kernelspec": {
   "display_name": "Python 3 (ipykernel)",
   "language": "python",
   "name": "python3"
  },
  "language_info": {
   "codemirror_mode": {
    "name": "ipython",
    "version": 3
   },
   "file_extension": ".py",
   "mimetype": "text/x-python",
   "name": "python",
   "nbconvert_exporter": "python",
   "pygments_lexer": "ipython3",
   "version": "3.12.4"
  }
 },
 "nbformat": 4,
 "nbformat_minor": 5
}
