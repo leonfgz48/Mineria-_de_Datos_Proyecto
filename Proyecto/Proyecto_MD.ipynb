{
 "cells": [
  {
   "cell_type": "markdown",
   "metadata": {},
   "source": [
    "## Proyecto Mineria de Datos."
   ]
  },
  {
   "cell_type": "markdown",
   "metadata": {},
   "source": [
    "Integrantes del Equipo:"
   ]
  },
  {
   "cell_type": "markdown",
   "metadata": {},
   "source": [
    "Introducción."
   ]
  },
  {
   "cell_type": "markdown",
   "metadata": {},
   "source": [
    "1) Definición de Problema\n",
    "   \n",
    "2) Previo Flujo de la solución del problema \n",
    "   \n",
    "3) Columna Objetivo\n",
    "\n",
    "4) Definir alcances y limiataciones"
   ]
  },
  {
   "cell_type": "markdown",
   "metadata": {},
   "source": [
    "Base de Datos"
   ]
  },
  {
   "cell_type": "markdown",
   "metadata": {},
   "source": [
    "1) Fuente de la información\n",
    "\n",
    "2) Lenguaje de Programación y carga de datos.\n",
    "\n",
    "3) Tamaños de la base\n",
    "   \n",
    "4) Vista previa de la base\n",
    "   \n",
    "5) Número de Columnas\n",
    "   \n",
    "6) Resumen de la Base \n",
    "   Aquí se reportan los datos Faltantes y NA\n",
    "\n",
    "7) Tipología de los datos\n",
    "Número, categoricas, Tiempo, fechas etc...\n"
   ]
  },
  {
   "cell_type": "markdown",
   "metadata": {},
   "source": [
    "Tratamiento de los datos"
   ]
  },
  {
   "cell_type": "markdown",
   "metadata": {},
   "source": [
    "1) Limpieza de Datos\n",
    "\n",
    "2) Eliminación y adición de columnas.\n",
    "\n",
    "3) Generación de Datos (en caso de hacer un tratamiento extra a las columnas)."
   ]
  },
  {
   "cell_type": "markdown",
   "metadata": {},
   "source": [
    "Estadistica descriptiva."
   ]
  },
  {
   "cell_type": "markdown",
   "metadata": {},
   "source": [
    "1) Medidas de dispersión"
   ]
  },
  {
   "cell_type": "markdown",
   "metadata": {},
   "source": [
    "Referencias."
   ]
  },
  {
   "cell_type": "markdown",
   "metadata": {},
   "source": []
  }
 ],
 "metadata": {
  "kernelspec": {
   "display_name": "Python 3",
   "language": "python",
   "name": "python3"
  },
  "language_info": {
   "codemirror_mode": {
    "name": "ipython",
    "version": 3
   },
   "file_extension": ".py",
   "mimetype": "text/x-python",
   "name": "python",
   "nbconvert_exporter": "python",
   "pygments_lexer": "ipython3",
   "version": "3.9.6"
  }
 },
 "nbformat": 4,
 "nbformat_minor": 2
}
