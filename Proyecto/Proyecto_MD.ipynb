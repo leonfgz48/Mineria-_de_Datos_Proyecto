{
 "cells": [
  {
   "cell_type": "markdown",
   "metadata": {},
   "source": [
    "## Proyecto Mineria de Datos."
   ]
  },
  {
   "cell_type": "markdown",
   "metadata": {},
   "source": [
    "Integrantes del Equipo:\n",
    "* Rodrigo Alan García Pérez\n",
    "* Raul Gerardo Reyes Barron 192129\n",
    "* César Armando Rojas Flores 220019\n",
    "* Rodrigo Alan García Pérez 220211\n",
    "* Emanuel Ortiz Bassoco 130669\n",
    "* León Felipe Gómez Zarza 111203"
   ]
  },
  {
   "cell_type": "markdown",
   "metadata": {},
   "source": [
    "Introducción."
   ]
  },
  {
   "cell_type": "markdown",
   "metadata": {},
   "source": [
    "1) Definición de Problema\n",
    "   * Dueño AIRBNB Problmea\n",
    "   Nuestro cliente es el dueño de un AIRBNB, que no tiene información suficiente para salir a mercado con precio competitivo. \n",
    "   El dueño se mete a la platforma y se compara propiedades similares. \n",
    "\n",
    "Limitación: la estimación nos dará un precio que probablemente no será explicado marginalmente.\n",
    "\n",
    "2) Previo Flujo de la solución del problema \n",
    "   Esta comparación se piensa automatizar dentro de un algoritmo de Machine learning. \n",
    "   El anterior algorithmo se alimentará con una base de datos que contienen caracterisiticas distintas de propiedades dentro de la zona geografica. El flujo que será ejecutado:\n",
    "   1) Descarga de Base de Datos\n",
    "   2) Limpieza y exploracion de Base\n",
    "   3) Busqueda y Programación de algoritmo.\n",
    "   4) Estimación del precio. \n",
    "\n",
    "Con esta estimación le damos a nuestro cliente una muy buena idea en que será su gnancia.\n",
    "\n",
    "3) Columna Objetivo\n",
    "   Nuestra columna objetivo será la columna de Precio.\n",
    "\n",
    "4) Definir alcances y limiataciones\n",
    "   * Alcance: Solo será analizada la zona geografica de la Ciudad de Mexico.\n",
    "   * Y solo las variables que estén dentro de la base ddatos definida en el siguiente.\n",
    "   * Limitación: la estimación nos dará un precio que probablemente no será explicado marginalmente.\n",
    "   "
   ]
  },
  {
   "cell_type": "markdown",
   "metadata": {},
   "source": [
    "Base de Datos"
   ]
  },
  {
   "cell_type": "markdown",
   "metadata": {},
   "source": [
    "1) Fuente de la información\n",
    "La base de datos que vamos utilizar en este trabajao proviene de: Asocición inside AIRBNB. \n",
    "Es una plataforma independiente que proporciona datos y herramientas para el análisis de los listados de propiedades de Airbnb en diferentes ciudades del mundo. Esta plataforma recopila y publica datos de los listados de Airbnb con el propósito de aumentar la transparencia en torno al impacto de Airbnb en las comunidades locales, especialmente en términos de disponibilidad de viviendas, precios de alquiler y otras dinámicas del mercado de alquiler a corto plazo.\n",
    "\n",
    "2) Lenguaje de Programación y carga de datos.\n",
    "Lenguaje de programación R y Python. Utlizaremos archivos tipo csv para la base\n",
    "\n",
    "3) Tamaños de la base\n",
    "La base se conforma de 26,536 registros con 75 variables. \n",
    "\n",
    "\n",
    "   \n",
    "\n",
    "\n",
    "\n",
    "\n"
   ]
  },
  {
   "cell_type": "markdown",
   "metadata": {},
   "source": [
    "4) Vista previa de la base.\n",
    "   Codigo #Gerry#"
   ]
  },
  {
   "cell_type": "code",
   "execution_count": null,
   "metadata": {
    "vscode": {
     "languageId": "plaintext"
    }
   },
   "outputs": [],
   "source": [
    "# Ocultar lenguaje#\n",
    "clean_list.head()\n",
    "\n",
    "Explicación lo que ve en el output de 2 renglones."
   ]
  },
  {
   "cell_type": "code",
   "execution_count": null,
   "metadata": {
    "vscode": {
     "languageId": "plaintext"
    }
   },
   "outputs": [],
   "source": [
    "\n",
    "7) Tipología de los datos\n",
    "\n",
    "Codigo Describe!!! #Rodrigo y Gerardo#\n",
    "\n",
    "Número, columnas \n",
    "Numero de renglones\n",
    "Las categoris clolumnas (numericas, fechas, etc..) \n",
    "numero  NA\n",
    "numero Vacios\n",
    "Entropia de variables\n",
    "\n",
    "Explicación lo que ve en el output de 2 renglones.\n"
   ]
  },
  {
   "cell_type": "markdown",
   "metadata": {},
   "source": [
    "Exposición #2 \n",
    "Tratamiento de los datos\n",
    "Responsables: \n",
    "Emanuel \n",
    "Ulices \n",
    "Armando\n"
   ]
  },
  {
   "cell_type": "markdown",
   "metadata": {},
   "source": [
    "1) Limpieza de Datos\n",
    "\n",
    "2) Eliminación y adición de columnas.\n",
    "   Derscripción\n",
    "\n",
    "3) Generación de Datos (en caso de hacer un tratamiento extra a las columnas)."
   ]
  },
  {
   "cell_type": "markdown",
   "metadata": {},
   "source": [
    "Estadistica descriptiva."
   ]
  },
  {
   "cell_type": "markdown",
   "metadata": {},
   "source": [
    "1) Medidas de dispersión"
   ]
  },
  {
   "cell_type": "markdown",
   "metadata": {},
   "source": [
    "Referencias."
   ]
  },
  {
   "cell_type": "markdown",
   "metadata": {},
   "source": []
  }
 ],
 "metadata": {
  "kernelspec": {
   "display_name": "Python 3",
   "language": "python",
   "name": "python3"
  },
  "language_info": {
   "codemirror_mode": {
    "name": "ipython",
    "version": 3
   },
   "file_extension": ".py",
   "mimetype": "text/x-python",
   "name": "python",
   "nbconvert_exporter": "python",
   "pygments_lexer": "ipython3",
   "version": "3.9.6"
  }
 },
 "nbformat": 4,
 "nbformat_minor": 2
}
