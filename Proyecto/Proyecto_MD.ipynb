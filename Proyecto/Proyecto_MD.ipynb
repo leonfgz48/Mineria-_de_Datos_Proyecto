{
 "cells": [
  {
   "cell_type": "markdown",
   "metadata": {},
   "source": [
    "## Proyecto Mineria de Datos."
   ]
  },
  {
   "cell_type": "markdown",
   "metadata": {},
   "source": [
    "Integrantes del Equipo:\n",
    "* Rodrigo Alan García Pérez\n",
    "* Raul Gerardo Reyes Barron 192129\n",
    "* César Armando Rojas Flores 220019\n",
    "* Rodrigo Alan García Pérez 220211\n",
    "* Emanuel Ortiz Bassoco 130669\n",
    "* León Felipe Gómez Zarza 111203"
   ]
  },
  {
   "cell_type": "markdown",
   "metadata": {},
   "source": [
    "### Introducción."
   ]
  },
  {
   "cell_type": "markdown",
   "metadata": {},
   "source": [
    "1) **Definición de Problema**\n",
    " \n",
    "Nuestro cliente es el propietario de un inmueble registrado en Airbnb que enfrenta dificultades para determinar un precio competitivo en el mercado. Actualmente, el propietario accede a la plataforma para comparar su propiedad con otras similares, pero carece de la información suficiente para establecer una estrategia de precios adecuada y efectiva.\n",
    "\n",
    "\n",
    "2) **Previo Flujo de la solución del problema**\n",
    "\n",
    "La comparación anteriormente mencionada se planea automatizar mediante un algoritmo de aprendizaje automático (Machine Learning). Este algoritmo se nutrirá de una base de datos que contiene diversas características de propiedades ubicadas en la zona geográfica de la Ciudad de México. El flujo para llevar a cabo el análisis será el siguiente:\n",
    "\n",
    "1. **Descarga de la Base de Datos**\n",
    "2. **Limpieza y Exploración de la Base de Datos**\n",
    "3. **Desarrollo y Programación del Algoritmo**\n",
    "4. **Estimación del Precio**\n",
    "\n",
    "Con esta estimación, proporcionaremos a nuestro cliente una mejor visión de su posible ganancia, lo cual le permitirá tomar mejores decisiones respecto a la fijación de precios para su propiedad.\n",
    "\n",
    "3) **Columna Objetivo**\n",
    "   \n",
    "De lo anterior, se decide que la columna objetivo será la de Precio.\n",
    "\n",
    "4) **Definición de Alcances y Limitaciones**\n",
    "\n",
    "*Alcance:* \n",
    "   * El análisis se restringirá exclusivamente a la zona geográfica de la Ciudad de México. \n",
    "   * Se considerarán únicamente las variables contenidas en la base de datos definida para este propósito.\n",
    "   \n",
    "*Limitación:* \n",
    "\n",
    "* La estimación proporcionada por el algoritmo podría resultar en un precio que no se explicará en detalle marginalmente, lo que podría limitar la precisión y el entendimiento completo de las estimaciones generadas.\n",
    "   "
   ]
  },
  {
   "cell_type": "markdown",
   "metadata": {},
   "source": [
    "### Base de Datos"
   ]
  },
  {
   "cell_type": "markdown",
   "metadata": {},
   "source": [
    "1) **Fuente de la información**\n",
    "\n",
    "La base de datos que vamos utilizar en este trabajo proviene de: Asocición inside AIRBNB. Esta asosiación es una plataforma independiente que proporciona datos y herramientas para el análisis de los listados de propiedades de Airbnb en diferentes ciudades del mundo. Esta plataforma recopila y publica datos de los listados de Airbnb con el propósito de aumentar la transparencia en torno al impacto de Airbnb en las comunidades locales, especialmente en términos de disponibilidad de viviendas, precios de alquiler y otras dinámicas del mercado de alquiler a corto plazo.\n",
    "\n",
    "2) **Lenguaje de Programación y carga de datos.**\n",
    "   \n",
    "* Lenguaje de programación que se utlizarán en este trabajo serán R y Python. \n",
    "* Para la base de datos se usarán archivos tipo csv.\n",
    "\n",
    "3) **Tamaños de la base**\n",
    "\n",
    "La base se conforma de 26,536 registros con 75 variables. "
   ]
  },
  {
   "cell_type": "markdown",
   "metadata": {},
   "source": [
    "4) **Vista previa de la base.**\n",
    "   \n",
    "Codigo #Gerry#"
   ]
  },
  {
   "cell_type": "markdown",
   "metadata": {},
   "source": [
    "* Ocultar lenguaje\n",
    "Codigo clean_list.head()\n",
    "\n",
    "Explicación lo que ve en el output de 2 renglones."
   ]
  },
  {
   "cell_type": "markdown",
   "metadata": {},
   "source": [
    "\n",
    "5) **Tipología de los datos**\n",
    "\n",
    "Codigo Describe!!! #Rodrigo y Gerardo#\n",
    "\n",
    "Número, columnas \n",
    "Numero de renglones\n",
    "Las categoris clolumnas (numericas, fechas, etc..) \n",
    "numero  NA\n",
    "numero Vacios\n",
    "Entropia de variables\n",
    "\n",
    "Explicación lo que ve en el output de 2 renglones.\n"
   ]
  },
  {
   "cell_type": "markdown",
   "metadata": {},
   "source": [
    "## Tratamiento de los datos (Para Exposición #2)\n",
    "\n",
    "* Responsables: \n",
    "* Emanuel \n",
    "* Ulices \n",
    "* Armando\n"
   ]
  },
  {
   "cell_type": "markdown",
   "metadata": {},
   "source": [
    "1) Limpieza de Datos\n",
    "\n",
    "2) Eliminación y adición de columnas.\n",
    "   Derscripción\n",
    "\n",
    "3) Generación de Datos (en caso de hacer un tratamiento extra a las columnas)."
   ]
  },
  {
   "cell_type": "markdown",
   "metadata": {},
   "source": [
    "## Estadistica descriptiva. (Para Exposición #2)"
   ]
  },
  {
   "cell_type": "markdown",
   "metadata": {},
   "source": [
    "1) Medidas de dispersión"
   ]
  },
  {
   "cell_type": "markdown",
   "metadata": {},
   "source": [
    "## Referencias."
   ]
  },
  {
   "cell_type": "markdown",
   "metadata": {},
   "source": []
  }
 ],
 "metadata": {
  "kernelspec": {
   "display_name": "Python 3",
   "language": "python",
   "name": "python3"
  },
  "language_info": {
   "codemirror_mode": {
    "name": "ipython",
    "version": 3
   },
   "file_extension": ".py",
   "mimetype": "text/x-python",
   "name": "python",
   "nbconvert_exporter": "python",
   "pygments_lexer": "ipython3",
   "version": "3.9.6"
  }
 },
 "nbformat": 4,
 "nbformat_minor": 2
}
